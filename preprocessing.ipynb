{
 "cells": [
  {
   "cell_type": "code",
   "execution_count": null,
   "metadata": {},
   "outputs": [],
   "source": [
    "import pandas as pd\n",
    "pd.options.display.max_columns = None\n",
    "pd.options.display.max_rows = None\n",
    "\n",
    "file_path = 'data/tgv_data.csv'\n",
    "\n",
    "df = pd.read_csv(file_path, sep=';')\n",
    "df.head()"
   ]
  },
  {
   "cell_type": "code",
   "execution_count": null,
   "metadata": {},
   "outputs": [],
   "source": [
    "df.info()"
   ]
  },
  {
   "cell_type": "code",
   "execution_count": null,
   "metadata": {},
   "outputs": [],
   "source": [
    "# Supprimer les colonnes vides ou partiellement remplies\n",
    "df = df.drop(columns=['commentaire_annulation', 'commentaire_retards_depart', 'commentaires_retard_arrivee'])"
   ]
  },
  {
   "cell_type": "code",
   "execution_count": null,
   "metadata": {},
   "outputs": [],
   "source": [
    "df.describe()"
   ]
  },
  {
   "cell_type": "markdown",
   "metadata": {},
   "source": [
    "## Missing dates"
   ]
  },
  {
   "cell_type": "code",
   "execution_count": null,
   "metadata": {},
   "outputs": [],
   "source": [
    "df.groupby(['gare_depart', 'gare_arrivee']).size()\n",
    "df.groupby(['gare_depart', 'gare_arrivee']).size().reset_index(name='count').query('count < 66')\n"
   ]
  },
  {
   "cell_type": "markdown",
   "metadata": {},
   "source": [
    "### Paris Vaugirard train station"
   ]
  },
  {
   "cell_type": "code",
   "execution_count": null,
   "metadata": {},
   "outputs": [],
   "source": [
    "df_vaugirard = df[(df['gare_arrivee'] == 'PARIS VAUGIRARD') | (df['gare_depart'] == 'PARIS VAUGIRARD')]\n",
    "df_vaugirard.groupby(['gare_depart', 'gare_arrivee']).size()"
   ]
  },
  {
   "cell_type": "code",
   "execution_count": null,
   "metadata": {},
   "outputs": [],
   "source": [
    "df_vaugirard_nantes = df[((df['gare_depart'] == 'PARIS VAUGIRARD') | (df['gare_depart'] == 'PARIS MONTPARNASSE')) & (df['gare_arrivee'] == 'BORDEAUX ST JEAN') & (df['date'] == '2018-01')]\n",
    "df_vaugirard_nantes"
   ]
  },
  {
   "cell_type": "markdown",
   "metadata": {},
   "source": [
    "Tous les trajets qui impliquent la gare PARIS VAUGIRARD n'ont lieu qu'en 2018. Plus aucun trajet ensuite. On peut donc supprimer ces lignes du df."
   ]
  },
  {
   "cell_type": "code",
   "execution_count": null,
   "metadata": {},
   "outputs": [],
   "source": [
    "df = df[(df['gare_depart'] != 'PARIS VAUGIRARD') & (df['gare_arrivee'] != 'PARIS VAUGIRARD')]"
   ]
  },
  {
   "cell_type": "code",
   "execution_count": null,
   "metadata": {},
   "outputs": [],
   "source": [
    "df.groupby(['gare_depart', 'gare_arrivee']).size().reset_index(name='count').query('count < 66')\n",
    "# df_with_data.groupby(['gare_depart', 'gare_arrivee']).size().reset_index(name='count')"
   ]
  },
  {
   "cell_type": "markdown",
   "metadata": {},
   "source": [
    "### Dealing with Tourcoing - Marseille, Madrid - Marseille, Marseille - Madrid"
   ]
  },
  {
   "cell_type": "code",
   "execution_count": null,
   "metadata": {},
   "outputs": [],
   "source": [
    "df_tourcoingmarseille = df[(df['gare_depart'] == 'TOURCOING') & (df['gare_arrivee'] == 'MARSEILLE ST CHARLES')]\n",
    "\n",
    "# Filter the DataFrame to keep rows where the trip is not from TOURCOING to MARSEILLE ST CHARLES\n",
    "df = df[~((df['gare_depart'] == 'TOURCOING') & (df['gare_arrivee'] == 'MARSEILLE ST CHARLES'))]\n"
   ]
  },
  {
   "cell_type": "code",
   "execution_count": null,
   "metadata": {},
   "outputs": [],
   "source": [
    "df_madrid_marseille = df[((df['gare_depart'] == 'MADRID') & (df['gare_arrivee'] == 'MARSEILLE ST CHARLES')) \n",
    "                         | ((df['gare_depart'] == 'MARSEILLE ST CHARLES') & (df['gare_arrivee'] == 'MADRID'))]\n",
    "df_madrid_marseille"
   ]
  },
  {
   "cell_type": "code",
   "execution_count": null,
   "metadata": {},
   "outputs": [],
   "source": [
    "import pandas as pd\n",
    "import matplotlib.pyplot as plt\n",
    "\n",
    "# Liste des trajets d'intérêt\n",
    "trajets = [\n",
    "    ('MADRID', 'MARSEILLE ST CHARLES'),\n",
    "    ('MARSEILLE ST CHARLES', 'MADRID')\n",
    "]\n",
    "\n",
    "# Filtrer le DataFrame pour les trajets spécifiques en utilisant isin()\n",
    "filtered_df = df[df[['gare_depart', 'gare_arrivee']].apply(tuple, axis=1).isin(trajets)]\n",
    "\n",
    "# Convertir la colonne 'date' en type datetime si ce n'est pas déjà le cas\n",
    "filtered_df['date'] = pd.to_datetime(filtered_df['date'], format='%Y-%m')\n",
    "\n",
    "# Grouper par paire de gares et date, puis calculer le retard moyen d'arrivée\n",
    "grouped = filtered_df.groupby(['gare_depart', 'gare_arrivee', 'date'])['retard_moyen_arrivee'].mean()\n",
    "\n",
    "# Créer un graphique pour chaque trajet\n",
    "plt.figure(figsize=(12, 6))\n",
    "\n",
    "for trajet, data in grouped.groupby(['gare_depart', 'gare_arrivee']):\n",
    "    plt.plot(data.index.get_level_values('date'), data.values, marker='o', linestyle='-', label=trajet)\n",
    "\n",
    "plt.title('Évolution du Retard Moyen d\\'Arrivée par Trajet')\n",
    "plt.xlabel('Date')\n",
    "plt.ylabel('Retard Moyen d\\'Arrivée')\n",
    "plt.legend()\n",
    "plt.grid(True)\n",
    "plt.show()\n"
   ]
  },
  {
   "cell_type": "code",
   "execution_count": null,
   "metadata": {},
   "outputs": [],
   "source": [
    "df = df[~((df['gare_depart'] == 'MADRID') & (df['gare_arrivee'] == 'MARSEILLE ST CHARLES') | ((df['gare_depart'] == 'MARSEILLE ST CHARLES') & (df['gare_arrivee'] == 'MADRID')))]"
   ]
  },
  {
   "cell_type": "code",
   "execution_count": null,
   "metadata": {},
   "outputs": [],
   "source": [
    "df.groupby(['gare_depart', 'gare_arrivee']).size().reset_index(name='count').query('count < 66')"
   ]
  },
  {
   "cell_type": "code",
   "execution_count": null,
   "metadata": {},
   "outputs": [],
   "source": [
    "import pandas as pd\n",
    "\n",
    "# Obtenez la liste des combinaisons uniques de gares de départ et d'arrivée dans le DataFrame\n",
    "trajets = df[['gare_depart', 'gare_arrivee']].drop_duplicates()\n",
    "\n",
    "# Liste des dates attendues (de janvier 2018 à juin 2023, en incluant tous les mois)\n",
    "dates_attendues = [f\"{year}-{month:02d}\" for year in range(2018, 2023) for month in range(1, 13)]\n",
    "dates_attendues += [\"2023-01\", \"2023-02\", \"2023-03\", \"2023-04\", \"2023-05\", \"2023-06\"]\n",
    "\n",
    "# Parcourez les combinaisons de gares de départ et d'arrivée existantes\n",
    "for index, trajet in trajets.iterrows():\n",
    "    gare_depart = trajet['gare_depart']\n",
    "    gare_arrivee = trajet['gare_arrivee']\n",
    "    \n",
    "    for date in dates_attendues:\n",
    "        # Vérifiez si la combinaison de gare de départ, gare d'arrivée et date n'existe pas dans le DataFrame\n",
    "        if not df[(df['gare_depart'] == gare_depart) & (df['gare_arrivee'] == gare_arrivee) & (df['date'] == date)].empty:\n",
    "            continue\n",
    "\n",
    "        # Traitez la date manquante en utilisant le code que vous avez fourni\n",
    "        previous_dates = [d for d in dates_attendues if d < date][:3]\n",
    "        next_dates = [d for d in dates_attendues if d > date][:3]\n",
    "\n",
    "        previous_rows = df[(df['gare_depart'] == gare_depart) & (df['gare_arrivee'] == gare_arrivee) & df['date'].isin(previous_dates)]\n",
    "        next_rows = df[(df['gare_depart'] == gare_depart) & (df['gare_arrivee'] == gare_arrivee) & df['date'].isin(next_dates)]\n",
    "\n",
    "        mean_values = (previous_rows.mean() + next_rows.mean()) / 2\n",
    "        mean_values['date'] = date\n",
    "        service = df.loc[(df['gare_depart'] == gare_depart) & (df['gare_arrivee'] == gare_arrivee) & (df['date'] == previous_dates[0]), 'service'].values[0]\n",
    "\n",
    "        new_row = {col: mean_values[col] for col in mean_values.index}\n",
    "        new_row['service'] = service\n",
    "        new_row['gare_depart'] = gare_depart\n",
    "        new_row['gare_arrivee'] = gare_arrivee\n",
    "\n",
    "        # Ajoutez la nouvelle ligne au DataFrame\n",
    "        df = df.append(new_row, ignore_index=True)\n",
    "\n",
    "        # Log : Signaler l'ajout de la nouvelle ligne\n",
    "        print(f\"Nouvelle ligne ajoutée : {new_row}\")\n"
   ]
  },
  {
   "cell_type": "markdown",
   "metadata": {},
   "source": [
    "### Traiter les mois où aucun train n'a circulé (COVID)"
   ]
  },
  {
   "cell_type": "code",
   "execution_count": null,
   "metadata": {},
   "outputs": [],
   "source": [
    "zero_train = df[(df['nb_train_prevu'] == 0)]\n",
    "zero_train"
   ]
  },
  {
   "cell_type": "code",
   "execution_count": null,
   "metadata": {},
   "outputs": [],
   "source": [
    "zero_train = df[(df['nb_train_prevu'] == 0)]\n",
    "zero_train.shape"
   ]
  },
  {
   "cell_type": "code",
   "execution_count": null,
   "metadata": {},
   "outputs": [],
   "source": [
    "import pandas as pd\n",
    "import matplotlib.pyplot as plt\n",
    "\n",
    "# Liste des trajets d'intérêt\n",
    "trajets = [\n",
    "    ('NANTES', 'STRASBOURG')\n",
    "]\n",
    "\n",
    "# Filtrer le DataFrame pour les trajets spécifiques en utilisant isin()\n",
    "filtered_df = df[df[['gare_depart', 'gare_arrivee']].apply(tuple, axis=1).isin(trajets)]\n",
    "\n",
    "# Convertir la colonne 'date' en type datetime si ce n'est pas déjà le cas\n",
    "filtered_df['date'] = pd.to_datetime(filtered_df['date'], format='%Y-%m')\n",
    "\n",
    "# Grouper par paire de gares et date, puis calculer le retard moyen d'arrivée\n",
    "grouped = filtered_df.groupby(['gare_depart', 'gare_arrivee', 'date'])['retard_moyen_arrivee'].mean()\n",
    "\n",
    "# Créer un graphique pour chaque trajet\n",
    "plt.figure(figsize=(12, 6))\n",
    "\n",
    "for trajet, data in grouped.groupby(['gare_depart', 'gare_arrivee']):\n",
    "    plt.plot(data.index.get_level_values('date'), data.values, marker='o', linestyle='-', label=trajet)\n",
    "\n",
    "plt.title('Évolution du Retard Moyen d\\'Arrivée par Trajet')\n",
    "plt.xlabel('Date')\n",
    "plt.ylabel('Retard Moyen d\\'Arrivée')\n",
    "plt.legend()\n",
    "plt.grid(True)\n",
    "plt.show()"
   ]
  },
  {
   "cell_type": "code",
   "execution_count": null,
   "metadata": {},
   "outputs": [],
   "source": [
    "import pandas as pd\n",
    "\n",
    "# Compteur pour suivre le nombre de lignes modifiées\n",
    "nb_lignes_modifiees = 0\n",
    "\n",
    "# Obtenez la liste des combinaisons uniques de gares de départ et d'arrivée dans le DataFrame\n",
    "trajets = df[['gare_depart', 'gare_arrivee']].drop_duplicates()\n",
    "# Liste des dates attendues (de janvier 2018 à juin 2023, en incluant tous les mois)\n",
    "dates_attendues = [f\"{year}-{month:02d}\" for year in range(2018, 2023) for month in range(1, 13)]\n",
    "dates_attendues += [\"2023-01\", \"2023-02\", \"2023-03\", \"2023-04\", \"2023-05\", \"2023-06\"]\n",
    "\n",
    "# Colonnes numériques à mettre à jour\n",
    "update_columns = ['duree_moyenne', 'nb_train_prevu', 'nb_annulation', 'nb_train_depart_retard', 'retard_moyen_depart', 'retard_moyen_tous_trains_depart',\n",
    "                  'nb_train_retard_arrivee', 'retard_moyen_arrivee', 'retard_moyen_tous_trains_arrivee', 'nb_train_retard_sup_15', 'retard_moyen_trains_retard_sup15',\n",
    "                  'nb_train_retard_sup_30', 'nb_train_retard_sup_60', 'prct_cause_externe', 'prct_cause_infra', 'prct_cause_gestion_trafic',\n",
    "                  'prct_cause_materiel_roulant', 'prct_cause_gestion_gare', 'prct_cause_prise_en_charge_voyageurs']\n",
    "\n",
    "for index, trajet in trajets.iterrows():\n",
    "    gare_depart = trajet['gare_depart']\n",
    "    gare_arrivee = trajet['gare_arrivee']\n",
    "    \n",
    "    for date in dates_attendues:\n",
    "\n",
    "        # Vérifiez si 'nb_train_prevu' est égal à zéro pour la date actuelle\n",
    "        if df[(df['gare_depart'] == gare_depart) & (df['gare_arrivee'] == gare_arrivee) & (df['date'] == date)]['nb_train_prevu'].values[0] == 0:\n",
    "            # Calculez les nouvelles valeurs pour les colonnes numériques\n",
    "            other_years_data = df[(df['gare_depart'] == gare_depart) & (df['gare_arrivee'] == gare_arrivee) & (df['date'].str[-2:] == date[-2:]) & (df['date'].str[:4] != date[:4])]\n",
    "            if not other_years_data.empty:\n",
    "                mean_values = other_years_data.mean()\n",
    "                mean_values['date'] = date\n",
    "\n",
    "                # Obtenir le service existant\n",
    "                service = df.loc[(df['gare_depart'] == gare_depart) & (df['gare_arrivee'] == gare_arrivee) & (df['date'] == date), 'service'].values[0]\n",
    "                mean_values['service'] = service\n",
    "\n",
    "                # Mise à jour des colonnes numériques\n",
    "                for col in update_columns:\n",
    "                    df.loc[(df['gare_depart'] == gare_depart) & (df['gare_arrivee'] == gare_arrivee) & (df['date'] == date), col] = mean_values[col]\n",
    "                # Incrémentez le compteur de lignes modifiées\n",
    "                nb_lignes_modifiees += 1\n",
    "\n",
    "# Affichez le nombre total de lignes modifiées\n",
    "print(f\"Nombre total de lignes modifiées : {nb_lignes_modifiees}\")\n",
    "# Affichez le DataFrame mis à jour\n"
   ]
  },
  {
   "cell_type": "markdown",
   "metadata": {},
   "source": [
    "### Detection des valeurs erronnées"
   ]
  },
  {
   "cell_type": "code",
   "execution_count": null,
   "metadata": {},
   "outputs": [],
   "source": [
    "import pandas as pd\n",
    "\n",
    "# Liste des colonnes commençant par \"prct_\"\n",
    "prct_columns = [col for col in df.columns if col.startswith(\"prct_\")]\n",
    "\n",
    "# Créez un DataFrame pour stocker les lignes qui ne respectent pas le critère\n",
    "invalid_rows = pd.DataFrame()\n",
    "\n",
    "# Vérifiez que la somme des colonnes prct_ n'est pas proche de 100 pour chaque ligne\n",
    "for index, row in df.iterrows():\n",
    "    sum_prct = sum(row[prct_columns])\n",
    "    if abs(sum_prct - 100) > 2:  # Vous pouvez ajuster la tolérance en changeant la valeur 2\n",
    "        # Créez un dictionnaire avec les valeurs à inclure dans le DataFrame\n",
    "        invalid_data = {\n",
    "            'date': row['date'],\n",
    "            'gare_depart': row['gare_depart'],\n",
    "            'gare_arrivee': row['gare_arrivee']\n",
    "        }\n",
    "        invalid_data.update({col: row[col] for col in prct_columns})\n",
    "        \n",
    "        # Ajoutez ces données au DataFrame invalid_rows\n",
    "        invalid_rows = invalid_rows.append(invalid_data, ignore_index=True)\n",
    "\n",
    "# Affichez les lignes qui ne respectent pas le critère\n",
    "print(\"Lignes ne respectant pas le critère de somme égale à 100 :\")\n",
    "invalid_rows\n"
   ]
  },
  {
   "cell_type": "markdown",
   "metadata": {},
   "source": [
    "### Outliers"
   ]
  },
  {
   "cell_type": "code",
   "execution_count": null,
   "metadata": {},
   "outputs": [],
   "source": [
    "df.describe()"
   ]
  },
  {
   "cell_type": "code",
   "execution_count": null,
   "metadata": {},
   "outputs": [],
   "source": [
    "import pandas as pd\n",
    "\n",
    "# Your DataFrame (df) and the column name with outliers\n",
    "column_name = 'retard_moyen_arrivee'\n",
    "n = 3  # Number of previous and next values to consider for the mean\n",
    "\n",
    "# Step 1: Detect rows with outliers (negative values)\n",
    "outliers = df[df[column_name] < 0].sort_values(by=column_name, ascending=True)\n",
    "\n",
    "# Initialize a counter for the number of lines modified\n",
    "num_lines_modified = 0\n",
    "\n",
    "# Step 2: Calculate the mean of the 3 previous and 3 next values for each row with outliers\n",
    "for index, row in outliers.iterrows():\n",
    "    date = row['date']\n",
    "    gare_depart = row['gare_depart']\n",
    "    gare_arrivee = row['gare_arrivee']\n",
    "    # Find the index of the row with the same date in the original DataFrame\n",
    "    original_index = df[(df['date'] == date) & (df['gare_depart'] == gare_depart) & (df['gare_arrivee'] == gare_arrivee)].index[0]\n",
    "    \n",
    "    nb_train_retard_sup_15 = row['nb_train_retard_sup_15']\n",
    "    retard_moyen_trains_retard_sup15 = row['retard_moyen_trains_retard_sup15']\n",
    "    nb_train_retard_sup_30 = row['nb_train_retard_sup_30']\n",
    "    nb_train_retard_sup_60 = row['nb_train_retard_sup_60']\n",
    "\n",
    "    new_value = (nb_train_retard_sup_15 * retard_moyen_trains_retard_sup15 + \n",
    "                 nb_train_retard_sup_30 * 30 + \n",
    "                 nb_train_retard_sup_60 * 60) / (nb_train_retard_sup_15 + nb_train_retard_sup_30 + nb_train_retard_sup_60)\n",
    "    \n",
    "    # Replace the value in the DataFrame\n",
    "    df.at[original_index, column_name] = new_value\n",
    "    \n",
    "    # Increment the counter for modified lines\n",
    "    num_lines_modified += 1\n",
    "\n",
    "# Print the number of lines modified\n",
    "print(f\"Number of lines modified: {num_lines_modified}\")"
   ]
  },
  {
   "cell_type": "markdown",
   "metadata": {},
   "source": [
    "## CReation nouvelle feature - durée strandard"
   ]
  },
  {
   "cell_type": "code",
   "execution_count": null,
   "metadata": {},
   "outputs": [],
   "source": [
    "import pandas as pd\n",
    "import numpy as np\n",
    "\n",
    "# Assuming your DataFrame is named df\n",
    "\n",
    "# Calculate the difference 'duree_moyenne - retard_moyen_tous_trains_arrivee'\n",
    "df['difference'] = df['duree_moyenne'] - df['retard_moyen_tous_trains_arrivee']\n",
    "\n",
    "# Calculate the median of the 'difference' column for each combination of 'gare_depart' and 'gare_arrivee'\n",
    "df['duree_standard'] = df.groupby(['gare_depart', 'gare_arrivee'])['difference'].transform('median')\n",
    "\n",
    "# Round the 'duree_standard' column to the nearest integer using NumPy\n",
    "df['duree_standard'] = np.round(df['duree_standard'])\n",
    "\n",
    "# Drop the 'difference' column if you no longer need it\n",
    "df.drop(columns=['difference'], inplace=True)"
   ]
  },
  {
   "cell_type": "markdown",
   "metadata": {},
   "source": [
    "# Save the new dataset"
   ]
  },
  {
   "cell_type": "code",
   "execution_count": null,
   "metadata": {},
   "outputs": [],
   "source": [
    "# Sauvegarder le DataFrame prétraité dans un fichier CSV\n",
    "df.to_csv(\"data/preprocessed_tgv_data.csv\", index=False, sep=\";\")"
   ]
  },
  {
   "cell_type": "code",
   "execution_count": null,
   "metadata": {},
   "outputs": [],
   "source": []
  }
 ],
 "metadata": {
  "kernelspec": {
   "display_name": "base",
   "language": "python",
   "name": "python3"
  },
  "language_info": {
   "codemirror_mode": {
    "name": "ipython",
    "version": 3
   },
   "file_extension": ".py",
   "mimetype": "text/x-python",
   "name": "python",
   "nbconvert_exporter": "python",
   "pygments_lexer": "ipython3",
   "version": "3.8.3"
  }
 },
 "nbformat": 4,
 "nbformat_minor": 2
}
